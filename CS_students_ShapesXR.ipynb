{
  "nbformat": 4,
  "nbformat_minor": 0,
  "metadata": {
    "colab": {
      "provenance": [],
      "mount_file_id": "1M1Os-_DiVIJHwaTLDScD-h0OVPVbz8GR",
      "authorship_tag": "ABX9TyNt7aUs05ISmjE6b0TL8Mve",
      "include_colab_link": true
    },
    "kernelspec": {
      "name": "python3",
      "display_name": "Python 3"
    },
    "language_info": {
      "name": "python"
    }
  },
  "cells": [
    {
      "cell_type": "markdown",
      "metadata": {
        "id": "view-in-github",
        "colab_type": "text"
      },
      "source": [
        "<a href=\"https://colab.research.google.com/github/mazeasdamien/CS_students_ShapesXR/blob/main/CS_students_ShapesXR.ipynb\" target=\"_parent\"><img src=\"https://colab.research.google.com/assets/colab-badge.svg\" alt=\"Open In Colab\"/></a>"
      ]
    },
    {
      "cell_type": "code",
      "execution_count": null,
      "metadata": {
        "colab": {
          "base_uri": "https://localhost:8080/"
        },
        "id": "SqxbNscUF99H",
        "outputId": "dd497643-8278-45f0-daad-716ab7357180"
      },
      "outputs": [
        {
          "output_type": "stream",
          "name": "stdout",
          "text": [
            "Drive already mounted at /content/drive; to attempt to forcibly remount, call drive.mount(\"/content/drive\", force_remount=True).\n",
            "--- Corrected Descriptive Statistics for Student Experience (N=63) ---\n",
            "| Statement                                                                                             |   Mean (M) |   Std. Dev. (SD) |\n",
            "|:------------------------------------------------------------------------------------------------------|-----------:|-----------------:|\n",
            "| ShapesXR was fun to use.                                                                              |       4.54 |             0.76 |\n",
            "| Designing directly in VR (with ShapesXR) helped me think differently about the educational concept... |       4.43 |             0.71 |\n",
            "| ShapesXR helped my group better visualize the 3D spatial concepts of our educational idea.            |       4.41 |             0.66 |\n",
            "| I felt creative when using ShapesXR for this project.                                                 |       4.38 |             0.77 |\n",
            "| I would recommend ShapesXR to other students for VR creative ideation projects.                       |       4.21 |             0.86 |\n",
            "| ShapesXR is effective for brainstorming and ideating educational VR concepts.                         |       4.13 |             0.77 |\n",
            "| The functionality for creating and linking scenes in ShapesXR is intuitive.                           |       4.08 |             0.97 |\n",
            "| The PICO VR headset was comfortable to use during the lab sessions.                                   |       3.84 |             1.11 |\n",
            "| Navigating and interacting in ShapesXR with the PICO controllers was straightforward.                 |       3.79 |             1.02 |\n",
            "| ShapesXR is easy to learn and get started with.                                                       |       3.76 |             0.82 |\n",
            "\n",
            "--- Analysis Complete! ---\n"
          ]
        }
      ],
      "source": [
        "import pandas as pd\n",
        "import io\n",
        "from google.colab import drive\n",
        "\n",
        "drive.mount('/content/drive')\n",
        "\n",
        "# --- Step 1: Load Data from File ---\n",
        "file_path = '/content/drive/MyDrive/ShapesXR_data.xlsx'\n",
        "\n",
        "# --- Step 2: Analysis Code ---\n",
        "try:\n",
        "    df = pd.read_excel(file_path)\n",
        "    statement_columns = {\n",
        "        'ShapesXR_Easy_To_Learn': 'ShapesXR is easy to learn and get started with.',\n",
        "        'ShapesXR_Effective_For_Teaching_VR': 'ShapesXR is effective for brainstorming and ideating educational VR concepts.',\n",
        "        'ShapesXR_Helps_Conceptual_Understanding': 'ShapesXR helped my group better visualize the 3D spatial concepts of our educational idea.',\n",
        "        'ShapesXR_Promotes_Scene_Thinking': 'The functionality for creating and linking scenes in ShapesXR is intuitive.',\n",
        "        'ShapesXR_Better_Than_2D_Tools': 'Designing directly in VR (with ShapesXR) helped me think differently about the educational concept...',\n",
        "        'Confident_To_Use_ShapesXR_Again': 'I felt creative when using ShapesXR for this project.',\n",
        "        'PICO_VR_Headset_Experience': 'The PICO VR headset was comfortable to use during the lab sessions.',\n",
        "        'Used_PICO_In_ShapesXR': 'Navigating and interacting in ShapesXR with the PICO controllers was straightforward.',\n",
        "        'Recommend_ShapesXR_To_Others': 'I would recommend ShapesXR to other students for VR creative ideation projects.',\n",
        "        'ShapesXR_Is_Interesting': 'ShapesXR was fun to use.'\n",
        "    }\n",
        "\n",
        "    likert_mapping = {\n",
        "        'Strongly Disagree': 1,\n",
        "        'Not Agree': 2,\n",
        "        'Disagree': 2,\n",
        "        'Neutral': 3,\n",
        "        'Agree': 4,\n",
        "        'Strongly Agree': 5,\n",
        "        'Strongly Not Agree': 2\n",
        "    }\n",
        "\n",
        "    for col in statement_columns.keys():\n",
        "        if col in df.columns:\n",
        "            df[col] = df[col].map(likert_mapping)\n",
        "\n",
        "    df.dropna(subset=statement_columns.keys(), inplace=True)\n",
        "\n",
        "    N = len(df)\n",
        "\n",
        "    results = []\n",
        "    for col, statement in statement_columns.items():\n",
        "        if col in df.columns:\n",
        "            mean = df[col].mean()\n",
        "            std_dev = df[col].std()\n",
        "            results.append({'Statement': statement, 'Mean (M)': mean, 'Std. Dev. (SD)': std_dev})\n",
        "\n",
        "    results_df = pd.DataFrame(results).sort_values(by='Mean (M)', ascending=False)\n",
        "\n",
        "    results_df['Mean (M)'] = results_df['Mean (M)'].round(2)\n",
        "    results_df['Std. Dev. (SD)'] = results_df['Std. Dev. (SD)'].round(2)\n",
        "\n",
        "\n",
        "    print(f\"--- Corrected Descriptive Statistics for Student Experience (N={N}) ---\")\n",
        "    print(results_df.to_markdown(index=False))\n",
        "\n",
        "    print(\"\\n--- Analysis Complete! ---\")\n",
        "\n",
        "\n",
        "except FileNotFoundError:\n",
        "    print(f\"Error: The file '{file_path}' was not found.\")\n",
        "    print(\"Please ensure the 'ShapesXR_data.xlsx' file is in your Google Drive at the specified path.\")\n",
        "except Exception as e:\n",
        "    print(f\"An error occurred: {e}\")\n",
        "    print(\"Please ensure the Excel data is correctly formatted.\")"
      ]
    }
  ]
}